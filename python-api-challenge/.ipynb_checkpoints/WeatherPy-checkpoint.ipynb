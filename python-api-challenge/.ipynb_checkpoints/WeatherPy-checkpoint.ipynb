{
 "cells": [
  {
   "cell_type": "markdown",
   "metadata": {},
   "source": [
    "# WeatherPy\n",
    "----\n",
    "\n",
    "#### Note\n",
    "* Instructions have been included for each segment. You do not have to follow them exactly, but they are included to help you think through the steps."
   ]
  },
  {
   "cell_type": "code",
   "execution_count": 13,
   "metadata": {
    "scrolled": true
   },
   "outputs": [],
   "source": [
    "import pandas as pd\n",
    "import numpy as np\n",
    "import requests\n",
    "import matplotlib.pyplot as plt\n",
    "import json\n",
    "import time\n",
    "from scipy.stats import linregress\n",
    "from citipy import citipy\n",
    "from api_keys import (weather_api_key, g_key)"
   ]
  },
  {
   "cell_type": "markdown",
   "metadata": {},
   "source": [
    "## Generate Cities List"
   ]
  },
  {
   "cell_type": "code",
   "execution_count": 14,
   "metadata": {},
   "outputs": [
    {
     "data": {
      "text/plain": [
       "618"
      ]
     },
     "execution_count": 14,
     "metadata": {},
     "output_type": "execute_result"
    }
   ],
   "source": [
    "#created variables for lat long and cities \n",
    "lat_long = []\n",
    "cities = []\n",
    "\n",
    "#create set of random lat long combinations\n",
    "lats = np.random.uniform(low = -90,high = 90, size=1500)\n",
    "longs = np.random.uniform(low = -180, high = 180, size = 1500)\n",
    "lat_long = zip(lats, longs)\n",
    "\n",
    "#identifying nearest city for each lat long \n",
    "for latlong in lat_long:\n",
    "    city = citipy.nearest_city(latlong[0], latlong[1]).city_name\n",
    "#if city is unique add to city list \n",
    "    if city not in cities: \n",
    "        cities.append(city)\n",
    "#print the length of cities \n",
    "len(cities)\n",
    "\n"
   ]
  },
  {
   "cell_type": "code",
   "execution_count": 15,
   "metadata": {},
   "outputs": [
    {
     "data": {
      "text/plain": [
       "{'coord': {'lon': -0.13, 'lat': 51.51},\n",
       " 'weather': [{'id': 804,\n",
       "   'main': 'Clouds',\n",
       "   'description': 'overcast clouds',\n",
       "   'icon': '04d'}],\n",
       " 'base': 'stations',\n",
       " 'main': {'temp': 60.1,\n",
       "  'feels_like': 56.88,\n",
       "  'temp_min': 60.01,\n",
       "  'temp_max': 60.8,\n",
       "  'pressure': 992,\n",
       "  'humidity': 93},\n",
       " 'visibility': 10000,\n",
       " 'wind': {'speed': 10.29, 'deg': 230},\n",
       " 'clouds': {'all': 90},\n",
       " 'dt': 1603287135,\n",
       " 'sys': {'type': 1,\n",
       "  'id': 1414,\n",
       "  'country': 'GB',\n",
       "  'sunrise': 1603262110,\n",
       "  'sunset': 1603299281},\n",
       " 'timezone': 3600,\n",
       " 'id': 2643743,\n",
       " 'name': 'London',\n",
       " 'cod': 200}"
      ]
     },
     "metadata": {},
     "output_type": "display_data"
    }
   ],
   "source": [
    "#Test url and see example of json\n",
    "base_url = 'http://api.openweathermap.org/data/2.5/weather?'\n",
    "units = 'imperial'\n",
    "#building partial query url\n",
    "query_url = f\"{base_url}appid={weather_api_key}&units={units}&q=\"\n",
    "#get weather data for London\n",
    "response = requests.get(query_url+'london').json()\n",
    "display(response)\n"
   ]
  },
  {
   "cell_type": "code",
   "execution_count": 16,
   "metadata": {},
   "outputs": [
    {
     "name": "stdout",
     "output_type": "stream",
     "text": [
      "City Name is Bredasdorp and ID is 1015776\n",
      "City Name is Paamiut and ID is 3421193\n",
      "City Name is Tasiilaq and ID is 3424607\n",
      "City Name is Jamestown and ID is 5122534\n",
      "City Name is Saskylakh and ID is 2017155\n",
      "City Name is Horta and ID is 3372988\n",
      "City Name is San Jose de Buan and ID is 1689399\n",
      "No city found\n",
      "City Name is Luwuk and ID is 1637001\n",
      "City Name is Barquisimeto and ID is 3648522\n",
      "City Name is College and ID is 5859699\n",
      "City Name is Punta Arenas and ID is 3874787\n",
      "City Name is Busselton and ID is 2075265\n",
      "City Name is Athens and ID is 264371\n",
      "City Name is Roebourne and ID is 2062276\n",
      "City Name is Rikitea and ID is 4030556\n",
      "No city found\n",
      "City Name is Albany and ID is 5106841\n",
      "City Name is Jasdan and ID is 1269179\n",
      "City Name is Iquique and ID is 3887127\n",
      "City Name is Vaini and ID is 4032243\n",
      "City Name is Ca Mau and ID is 1586443\n",
      "No city found\n",
      "City Name is Puerto Ayora and ID is 3652764\n",
      "City Name is New Norfolk and ID is 2155415\n",
      "City Name is Mataura and ID is 6201424\n",
      "City Name is Nikolskoye and ID is 546105\n",
      "City Name is East London and ID is 1006984\n",
      "City Name is Hearst and ID is 5973108\n",
      "City Name is Atuona and ID is 4020109\n",
      "City Name is Airai and ID is 1651810\n",
      "City Name is Chita and ID is 2025339\n",
      "City Name is Qaanaaq and ID is 3831208\n",
      "City Name is Hasaki and ID is 2112802\n",
      "City Name is Naze and ID is 1855540\n",
      "City Name is Arraial do Cabo and ID is 3471451\n",
      "City Name is Alta Gracia and ID is 3866163\n",
      "No city found\n",
      "City Name is Laas and ID is 3175096\n",
      "City Name is Butaritari and ID is 2110227\n",
      "City Name is Bartica and ID is 3379507\n",
      "City Name is Kathu and ID is 1153035\n",
      "City Name is Tuktoyaktuk and ID is 6170031\n",
      "No city found\n",
      "City Name is Hithadhoo and ID is 1282256\n",
      "City Name is Mossamedes and ID is 3347019\n",
      "No city found\n",
      "City Name is Marshall and ID is 4074736\n",
      "City Name is Sitka and ID is 5557293\n",
      "City Name is Bloomingdale and ID is 4148207\n",
      "No city found\n",
      "City Name is Bluff and ID is 2206939\n",
      "City Name is Pinega and ID is 509483\n",
      "City Name is George Town and ID is 1735106\n",
      "City Name is Ilulissat and ID is 3423146\n",
      "City Name is Loveland and ID is 5579368\n",
      "No city found\n",
      "City Name is Ushuaia and ID is 3833367\n",
      "City Name is Thompson and ID is 6165406\n",
      "City Name is Along and ID is 1278969\n",
      "City Name is Dikson and ID is 1507390\n",
      "City Name is Huarmey and ID is 3939168\n",
      "City Name is Khatanga and ID is 2022572\n",
      "City Name is Korla and ID is 1529376\n",
      "City Name is Acapulco de Juárez and ID is 3533462\n",
      "City Name is Castro and ID is 3466704\n",
      "City Name is Namwala and ID is 901766\n",
      "City Name is Bethel and ID is 5282297\n",
      "City Name is Shar and ID is 1519275\n",
      "City Name is Guerrero Negro and ID is 4021858\n",
      "City Name is Barrow and ID is 5880054\n",
      "City Name is Eenhana and ID is 3357804\n",
      "City Name is Barcelos and ID is 2742416\n",
      "No city found\n",
      "City Name is Saint George and ID is 5546220\n",
      "City Name is Foz and ID is 3122172\n",
      "City Name is Hilo and ID is 5855927\n",
      "City Name is Torbay and ID is 6167817\n",
      "City Name is Kolondiéba and ID is 2454934\n",
      "No city found\n",
      "City Name is Port Alfred and ID is 964432\n",
      "City Name is Lethem and ID is 3379316\n",
      "City Name is Leningradskiy and ID is 2123814\n",
      "City Name is Yeppoon and ID is 2142316\n",
      "City Name is Tiksi and ID is 2015306\n",
      "City Name is Calama and ID is 3897347\n",
      "City Name is Daşoguz and ID is 601734\n",
      "City Name is Laramie and ID is 5830062\n",
      "City Name is Tevaitoa and ID is 4033375\n",
      "City Name is Hermanus and ID is 3366880\n",
      "City Name is Yellowknife and ID is 6185377\n",
      "City Name is Delījān and ID is 136399\n",
      "City Name is Saldanha and ID is 3361934\n",
      "City Name is Thinadhoo and ID is 1337610\n",
      "City Name is Lebu and ID is 3883457\n",
      "City Name is Kavieng and ID is 2094342\n",
      "City Name is Rio Brilhante and ID is 3451241\n",
      "City Name is Saint-Philippe and ID is 935215\n",
      "City Name is Chongwe and ID is 917688\n",
      "City Name is Bambous Virieux and ID is 1106677\n",
      "City Name is Pangnirtung and ID is 6096551\n",
      "City Name is Shimoda and ID is 1852357\n",
      "City Name is Nerchinskiy Zavod and ID is 2019323\n",
      "City Name is Lüderitz and ID is 3355672\n",
      "No city found\n",
      "City Name is Bereda and ID is 3105522\n",
      "City Name is Ukiah and ID is 5404476\n",
      "City Name is Amuntai and ID is 1651461\n",
      "City Name is Verkhniy Baskunchak and ID is 475196\n",
      "City Name is Najrān and ID is 103630\n",
      "City Name is Constitución and ID is 3893726\n",
      "City Name is Prainha and ID is 3391287\n",
      "City Name is Parabel' and ID is 1495586\n",
      "No city found\n",
      "City Name is Cape Town and ID is 3369157\n",
      "City Name is Pacasmayo and ID is 3694178\n",
      "City Name is Aklavik and ID is 5882953\n",
      "City Name is Nabire and ID is 1634614\n",
      "City Name is Brenham and ID is 4676206\n",
      "City Name is Cabatuan and ID is 1721720\n",
      "No city found\n",
      "No city found\n",
      "City Name is Diffa and ID is 2445704\n",
      "City Name is Ibotirama and ID is 3461525\n",
      "City Name is Ovalle and ID is 3877918\n",
      "City Name is Saint Paul Harbor and ID is 5866583\n",
      "City Name is Darque and ID is 2740159\n",
      "City Name is Grand Gaube and ID is 934479\n",
      "City Name is Novoagansk and ID is 1497210\n",
      "City Name is Saint-Joseph and ID is 6690296\n",
      "City Name is Petropavlovsk-Kamchatskiy and ID is 2122104\n",
      "City Name is Kaitangata and ID is 2208248\n",
      "City Name is Ponta do Sol and ID is 2264557\n",
      "City Name is Laguna and ID is 5364271\n",
      "City Name is Hobart and ID is 2163355\n",
      "City Name is Kasongo-Lunda and ID is 2315026\n",
      "City Name is Denpasar and ID is 1645528\n",
      "City Name is Pingxiang and ID is 1798654\n",
      "City Name is Tautira and ID is 4033557\n",
      "No city found\n",
      "City Name is Kapaa and ID is 5848280\n",
      "No city found\n",
      "City Name is Ozernovskiy and ID is 2122293\n",
      "City Name is Halmstad and ID is 2708365\n",
      "City Name is Longyearbyen and ID is 2729907\n",
      "City Name is Shelburne and ID is 6145890\n",
      "City Name is Kudahuvadhoo and ID is 1337607\n",
      "City Name is Kilgore and ID is 4703199\n",
      "City Name is San Fernando and ID is 1690039\n",
      "City Name is Mulbāgal and ID is 1262562\n",
      "City Name is Coahuayana Viejo and ID is 4013679\n",
      "City Name is Wewak and ID is 2083537\n",
      "City Name is Vila Velha and ID is 3445026\n",
      "City Name is Avarua and ID is 4035715\n",
      "No city found\n",
      "City Name is Banjar and ID is 1650232\n",
      "City Name is Papetoai and ID is 4033910\n",
      "City Name is Yangi Marg`ilon and ID is 1513491\n",
      "City Name is Chokurdakh and ID is 2126123\n",
      "City Name is Pangody and ID is 1495626\n",
      "City Name is Hue and ID is 1580240\n",
      "City Name is Mianyang and ID is 1800627\n",
      "No city found\n",
      "City Name is Tomatlán and ID is 3981391\n",
      "City Name is Srednekolymsk and ID is 2121025\n",
      "City Name is Bakel and ID is 2252606\n",
      "City Name is Swellendam and ID is 950709\n",
      "City Name is Bengkulu and ID is 1649150\n",
      "City Name is Bandrele and ID is 1090397\n",
      "City Name is Heinola and ID is 658288\n",
      "City Name is Hong Kong and ID is 1819729\n",
      "City Name is Narsaq and ID is 3421719\n",
      "No city found\n",
      "City Name is Kinablangan and ID is 1708743\n",
      "City Name is Camacha and ID is 2270385\n",
      "City Name is Katsuura and ID is 2112309\n",
      "City Name is Shingū and ID is 1847947\n",
      "City Name is Douglas and ID is 5067114\n",
      "City Name is Nouakchott and ID is 2377450\n",
      "City Name is Ahipara and ID is 2194098\n",
      "City Name is Jambi City and ID is 1642858\n",
      "No city found\n",
      "City Name is Grindavik and ID is 3416888\n",
      "City Name is Peniche and ID is 2264923\n",
      "City Name is São João da Barra and ID is 3448903\n",
      "City Name is Caravelas and ID is 3466980\n",
      "City Name is Dois Vizinhos and ID is 3464579\n",
      "City Name is Vanimo and ID is 2084442\n",
      "City Name is Karasburg and ID is 3356343\n",
      "City Name is Mildura and ID is 2157698\n",
      "City Name is Itarema and ID is 3393692\n",
      "City Name is Ajdabiya and ID is 89113\n",
      "City Name is Ambunti and ID is 2100933\n",
      "City Name is Provideniya and ID is 4031574\n",
      "City Name is Tobermory and ID is 6167125\n",
      "City Name is Mathbaria and ID is 1185239\n",
      "No city found\n",
      "City Name is Nemuro and ID is 2128975\n",
      "City Name is Viedma and ID is 3832899\n",
      "City Name is San Policarpo and ID is 1688696\n",
      "City Name is Province of Mantua and ID is 3174050\n",
      "City Name is Badou and ID is 2367660\n",
      "City Name is Talnakh and ID is 1490256\n",
      "City Name is Yalutorovsk and ID is 1486468\n",
      "City Name is Port Hardy and ID is 6111862\n",
      "City Name is Tazovsky and ID is 1489853\n",
      "City Name is Serebryansk and ID is 1519395\n",
      "City Name is Lac du Bonnet and ID is 6014443\n",
      "City Name is Horsham and ID is 2646557\n",
      "City Name is Santa Cruz and ID is 2561668\n",
      "City Name is Alofi and ID is 4036284\n",
      "City Name is Eggenfelden and ID is 2933115\n",
      "City Name is Muros and ID is 3115824\n",
      "No city found\n",
      "No city found\n",
      "City Name is Eureka and ID is 5563397\n",
      "City Name is Kolvereid and ID is 3149577\n",
      "City Name is Visnes and ID is 3131500\n"
     ]
    },
    {
     "name": "stdout",
     "output_type": "stream",
     "text": [
      "City Name is Esperance and ID is 2071860\n",
      "No city found\n",
      "City Name is Alihe and ID is 2038665\n",
      "City Name is Labuhan and ID is 8079926\n",
      "No city found\n",
      "City Name is Vanavara and ID is 2013727\n",
      "City Name is Marsh Harbour and ID is 3571913\n",
      "City Name is Narasannapeta and ID is 1261853\n",
      "City Name is Kaeo and ID is 2189343\n",
      "City Name is Ancud and ID is 3899695\n",
      "No city found\n",
      "City Name is Pasinler and ID is 302824\n",
      "City Name is Great Falls and ID is 5655240\n",
      "City Name is Tignère and ID is 2221513\n",
      "City Name is Usinsk and ID is 863061\n",
      "City Name is Grand-Santi and ID is 3381538\n",
      "City Name is Casablanca and ID is 2553604\n",
      "City Name is Hünfeld and ID is 2897436\n",
      "City Name is Mineiros and ID is 3457147\n",
      "City Name is Maţāy and ID is 352628\n",
      "City Name is Yar-Sale and ID is 1486321\n",
      "City Name is Ulladulla and ID is 2145554\n",
      "City Name is Ronda and ID is 2511730\n",
      "City Name is Bahía Solano and ID is 3689325\n",
      "City Name is Berlevåg and ID is 780687\n",
      "City Name is Te Anau and ID is 2181625\n",
      "City Name is Lagoa and ID is 3372964\n",
      "City Name is San Ramon and ID is 5392593\n",
      "City Name is Goiatuba and ID is 3462371\n",
      "City Name is Chimoré and ID is 3920736\n",
      "City Name is Kulhudhuffushi and ID is 1337613\n",
      "City Name is Bida and ID is 2347209\n",
      "City Name is Faanui and ID is 4034551\n",
      "City Name is Broome and ID is 5110365\n",
      "City Name is Beya and ID is 1510131\n",
      "City Name is Bathsheba and ID is 3374083\n",
      "City Name is Platonovka and ID is 509104\n",
      "City Name is Quatre Cocos and ID is 1106643\n",
      "City Name is Zverinogolovskoye and ID is 1484943\n",
      "City Name is Cherskiy and ID is 2126199\n",
      "City Name is Mahébourg and ID is 934322\n",
      "City Name is Safford and ID is 5312476\n",
      "City Name is Chui and ID is 3443061\n",
      "City Name is Fort Nelson and ID is 5955902\n",
      "City Name is Naples and ID is 3172394\n",
      "City Name is Ulkan and ID is 2020208\n",
      "City Name is Jasper and ID is 4392354\n",
      "City Name is Klyuchi and ID is 1503153\n",
      "City Name is Lerwick and ID is 2644605\n",
      "No city found\n",
      "City Name is Raja and ID is 368246\n",
      "City Name is Agüimes and ID is 2522325\n",
      "City Name is Valparaíso and ID is 3868626\n",
      "City Name is Juneau and ID is 5554072\n",
      "City Name is Riyadh and ID is 108410\n",
      "City Name is Izberbash and ID is 554894\n",
      "City Name is Cidreira and ID is 3466165\n",
      "City Name is Rio Grande and ID is 3451138\n",
      "City Name is Patan and ID is 1282931\n",
      "City Name is Aasiaat and ID is 3424901\n",
      "City Name is Cabo San Lucas and ID is 3985710\n",
      "City Name is Haines Junction and ID is 5969025\n",
      "City Name is Nuristan and ID is 1444363\n",
      "City Name is Celestún and ID is 3531368\n",
      "City Name is Mar del Plata and ID is 3430863\n",
      "City Name is Astoria and ID is 5711847\n",
      "City Name is Bira and ID is 2026659\n",
      "No city found\n",
      "City Name is Geraldton and ID is 2070998\n",
      "City Name is Narsīpatnam and ID is 1261748\n",
      "City Name is Gamba and ID is 2400547\n",
      "City Name is Kumul and ID is 1529484\n",
      "City Name is Cayenne and ID is 3382160\n",
      "City Name is Norman Wells and ID is 6089245\n",
      "City Name is Kavaratti and ID is 1267390\n",
      "City Name is Tobane and ID is 933002\n",
      "City Name is Kurchum and ID is 1521762\n",
      "City Name is Antofagasta and ID is 3899539\n",
      "City Name is Katy and ID is 4702732\n",
      "City Name is Luangwa and ID is 909887\n",
      "City Name is Iqaluit and ID is 5983720\n",
      "City Name is Orosháza and ID is 716736\n",
      "City Name is Avesta and ID is 2724231\n",
      "City Name is Sinnamary and ID is 3380290\n",
      "City Name is Dourbali and ID is 2433055\n",
      "City Name is Zhigansk and ID is 2012530\n",
      "City Name is Araouane and ID is 2460954\n",
      "City Name is Porto-Novo and ID is 2392087\n",
      "City Name is Bandarbeyla and ID is 64814\n",
      "City Name is Mendi and ID is 2090990\n",
      "City Name is Neuquén and ID is 3843123\n",
      "No city found\n",
      "City Name is Pitimbu and ID is 3391889\n",
      "City Name is Cockburn Town and ID is 3576994\n",
      "City Name is Port Elizabeth and ID is 964420\n",
      "City Name is Peso da Régua Municipality and ID is 2736316\n",
      "City Name is Lompoc and ID is 5367788\n",
      "City Name is Prince Rupert and ID is 6113406\n",
      "City Name is Cedral and ID is 4014914\n",
      "City Name is Hualmay and ID is 3939761\n",
      "City Name is Ygatimi and ID is 3436616\n",
      "City Name is Mehamn and ID is 778707\n",
      "City Name is Huangcun and ID is 1553571\n",
      "City Name is Trat and ID is 1605277\n",
      "City Name is Verkhnyaya Inta and ID is 1487332\n",
      "City Name is Aksarka and ID is 1512019\n",
      "City Name is Port Hawkesbury and ID is 6111867\n",
      "City Name is Frontera and ID is 3980180\n",
      "City Name is Carnarvon and ID is 2074865\n",
      "City Name is San Cristobal and ID is 3628473\n",
      "City Name is Puerto Maldonado and ID is 3931470\n",
      "City Name is Souillac and ID is 933995\n",
      "City Name is Kruisfontein and ID is 986717\n",
      "City Name is Necochea and ID is 3430443\n",
      "City Name is Umluj and ID is 100926\n",
      "City Name is Savalou and ID is 2391895\n",
      "No city found\n",
      "No city found\n",
      "City Name is Baykit and ID is 1510689\n",
      "City Name is Salym and ID is 1493162\n",
      "City Name is Moose Factory and ID is 6078372\n",
      "City Name is Lata and ID is 2738381\n",
      "City Name is Port Blair and ID is 1259385\n",
      "City Name is Jumla and ID is 1283285\n",
      "City Name is Zaraza and ID is 3625066\n",
      "City Name is Chapais and ID is 5919850\n",
      "City Name is Honiara and ID is 2108502\n",
      "No city found\n",
      "City Name is Bartlesville and ID is 4529987\n",
      "No city found\n",
      "City Name is Cayambe and ID is 3659578\n",
      "City Name is Jalu and ID is 86049\n",
      "City Name is Kholmogory and ID is 549748\n",
      "City Name is Luocheng and ID is 1801983\n",
      "No city found\n",
      "City Name is Teguise and ID is 2510573\n",
      "City Name is Alta Floresta and ID is 6316343\n",
      "City Name is Kerema and ID is 2094144\n",
      "City Name is North Myrtle Beach and ID is 4589446\n",
      "City Name is Paignton and ID is 2640681\n",
      "City Name is Pundaguitan and ID is 1698289\n",
      "City Name is Saint Anthony and ID is 5044290\n",
      "City Name is Codrington and ID is 2171099\n",
      "City Name is Nieuwpoort and ID is 2790153\n",
      "City Name is Salme and ID is 1283472\n",
      "City Name is Fortuna and ID is 5563839\n",
      "City Name is Husavik and ID is 2629833\n",
      "City Name is Nanortalik and ID is 3421765\n",
      "City Name is Batemans Bay and ID is 2176639\n",
      "City Name is Ribeira Grande and ID is 3372707\n",
      "City Name is Evensk and ID is 2125693\n",
      "City Name is Road Town and ID is 3577430\n",
      "City Name is Haifa and ID is 294801\n",
      "City Name is Biankouma and ID is 2291666\n",
      "City Name is Afonso Cláudio and ID is 3473129\n",
      "City Name is Mmabatho and ID is 975436\n",
      "City Name is Elban and ID is 2024449\n",
      "City Name is Fairbanks and ID is 5861897\n",
      "City Name is Ranong and ID is 1150965\n",
      "City Name is Puqi and ID is 1798473\n",
      "City Name is San Vicente and ID is 3428068\n",
      "City Name is Isangel and ID is 2136825\n",
      "City Name is Bariloche and ID is 7647007\n",
      "City Name is Namatanai and ID is 2090021\n",
      "City Name is Gaoyou and ID is 1810309\n",
      "City Name is Millinocket and ID is 4972220\n",
      "City Name is Raudeberg and ID is 3146487\n",
      "City Name is Siavonga and ID is 898188\n",
      "City Name is Port Macquarie and ID is 2152659\n",
      "City Name is Alūksne and ID is 461528\n",
      "No city found\n",
      "City Name is Takoradze and ID is 2294915\n",
      "City Name is Kenai and ID is 5866063\n",
      "City Name is Topeka and ID is 4280539\n",
      "City Name is Piaçabuçu and ID is 3454005\n",
      "City Name is Muzhi and ID is 1498161\n",
      "City Name is Lantawan and ID is 1715775\n",
      "City Name is Neftçala and ID is 147425\n",
      "City Name is Khovd and ID is 1516048\n",
      "City Name is Ust-Maya and ID is 2013918\n",
      "City Name is Beyneu and ID is 610298\n",
      "No city found\n",
      "City Name is Lavrentiya and ID is 4031637\n",
      "City Name is Tommot and ID is 2015179\n",
      "City Name is Pisco and ID is 3932145\n",
      "No city found\n",
      "City Name is Prospect and ID is 2062944\n",
      "City Name is Rafai and ID is 236524\n",
      "City Name is Gangtok and ID is 1271631\n",
      "City Name is Klaeng and ID is 1609610\n",
      "City Name is Nyurba and ID is 2018735\n",
      "City Name is Beringovskiy and ID is 2126710\n",
      "City Name is Ingolstadt and ID is 2895992\n",
      "City Name is Taunggyi and ID is 1293960\n",
      "City Name is Baghdad and ID is 98182\n",
      "City Name is Agadez and ID is 2448083\n",
      "City Name is Luau and ID is 876177\n",
      "City Name is Abalak and ID is 1512223\n",
      "City Name is Inírida and ID is 3671450\n",
      "City Name is Pemangkat and ID is 1631637\n",
      "City Name is Pombas and ID is 3374351\n",
      "City Name is Tonantins and ID is 3661894\n",
      "City Name is Anchorage and ID is 5879400\n",
      "City Name is Killin and ID is 4117436\n",
      "City Name is Vestmannaeyjar and ID is 3412093\n",
      "City Name is Rosita and ID is 3618337\n",
      "City Name is Banepā and ID is 1283679\n",
      "City Name is Praia and ID is 3374333\n",
      "City Name is Taoudenni and ID is 2450173\n",
      "City Name is Goderich and ID is 5962442\n",
      "City Name is Emerald and ID is 2167426\n",
      "City Name is Clyde River and ID is 5924351\n",
      "City Name is Tyukhtet and ID is 1488774\n",
      "City Name is Tambacounda and ID is 2244991\n"
     ]
    },
    {
     "name": "stdout",
     "output_type": "stream",
     "text": [
      "City Name is Serafimovich and ID is 496957\n",
      "City Name is Helsinki and ID is 658225\n",
      "City Name is Golden and ID is 5423294\n",
      "City Name is Ust-Nera and ID is 2120048\n",
      "City Name is Xining and ID is 1788852\n",
      "City Name is Auki and ID is 2109701\n",
      "City Name is Berdigestyakh and ID is 2026861\n",
      "City Name is Cap-aux-Meules and ID is 5915327\n",
      "City Name is Miles City and ID is 5666176\n",
      "No city found\n",
      "City Name is Doha and ID is 290030\n",
      "City Name is Dwārka and ID is 1272140\n",
      "City Name is Río Gallegos and ID is 3838859\n",
      "City Name is Petites Anses and ID is 3578351\n",
      "City Name is Verkhnevilyuysk and ID is 2013639\n",
      "City Name is Jintūr and ID is 1268896\n",
      "City Name is Mahon and ID is 2514301\n",
      "City Name is Chicama and ID is 3698359\n",
      "City Name is Palembang and ID is 1633070\n",
      "City Name is Rongcheng and ID is 1797117\n",
      "City Name is Zyryanka and ID is 2119283\n",
      "City Name is Ostrovnoy and ID is 556268\n",
      "City Name is Santiago del Estero and ID is 3835869\n",
      "City Name is Mount Isa and ID is 2065594\n",
      "City Name is Roald and ID is 3141667\n",
      "City Name is Verkhoyansk and ID is 2013465\n",
      "City Name is La Ronge and ID is 6050066\n",
      "City Name is Nuuk and ID is 3421319\n",
      "City Name is Tegul'det and ID is 1489822\n",
      "City Name is Puerto del Rosario and ID is 2512186\n",
      "City Name is Japura and ID is 1642773\n",
      "City Name is Rapid Valley and ID is 5768244\n",
      "City Name is San Quintín and ID is 3984997\n",
      "City Name is Inta and ID is 1505579\n",
      "City Name is Nacala and ID is 1035025\n",
      "City Name is Maceió and ID is 3395981\n",
      "City Name is Kismayo and ID is 55671\n",
      "City Name is Alto Araguaia and ID is 3472473\n",
      "City Name is Kahului and ID is 5847411\n",
      "City Name is Ostashkov and ID is 514259\n",
      "City Name is Port Hedland and ID is 2063042\n",
      "City Name is Hammerfest and ID is 779683\n",
      "City Name is Emba and ID is 609924\n",
      "City Name is Sept-Îles and ID is 6144312\n",
      "City Name is São Filipe and ID is 3374210\n",
      "City Name is Maniitsoq and ID is 3421982\n",
      "City Name is Dhandhuka and ID is 1272970\n",
      "City Name is Saint-Augustin and ID is 6137462\n",
      "City Name is Orikum and ID is 3184575\n",
      "City Name is Maraã and ID is 3663475\n",
      "City Name is Akdepe and ID is 601551\n",
      "City Name is Harper and ID is 2276492\n",
      "City Name is Nyuksenitsa and ID is 516539\n",
      "No city found\n",
      "City Name is Dakoro and ID is 2446267\n",
      "City Name is Puerto Escondido and ID is 3520994\n",
      "City Name is Zambezi and ID is 895953\n",
      "City Name is Salalah and ID is 286621\n",
      "City Name is Cotia and ID is 6322204\n",
      "City Name is Sagana and ID is 180868\n",
      "City Name is Maningrida and ID is 2067089\n",
      "City Name is Mbandaka and ID is 2312895\n",
      "City Name is Mazamari and ID is 3935102\n",
      "City Name is Houma and ID is 4328010\n",
      "City Name is Saint Simons and ID is 4220862\n",
      "City Name is Sukhumi and ID is 611847\n",
      "City Name is Savage and ID is 5046063\n",
      "City Name is Spornoye and ID is 578283\n",
      "City Name is Mosetse and ID is 933277\n",
      "City Name is Shestakovo and ID is 2016733\n",
      "City Name is Waitati and ID is 2179825\n",
      "City Name is Peterhead and ID is 2640351\n",
      "City Name is Ciudad del Carmen and ID is 3530599\n",
      "City Name is Sarankhola and ID is 1185239\n",
      "City Name is Panguna and ID is 2088659\n",
      "City Name is Sabha and ID is 2212775\n",
      "City Name is Anaco and ID is 3486270\n",
      "City Name is Adré and ID is 245669\n",
      "City Name is Lena and ID is 3118547\n",
      "City Name is Ilhabela and ID is 3461425\n",
      "City Name is Castaños and ID is 4015022\n",
      "City Name is Bud and ID is 4255151\n",
      "City Name is Maragogi and ID is 3395458\n",
      "City Name is Klaksvík and ID is 2618795\n",
      "City Name is Gorontalo and ID is 1643837\n",
      "City Name is Ryki and ID is 759852\n",
      "City Name is Hambantota and ID is 1244926\n",
      "City Name is Upernavik and ID is 3418910\n",
      "City Name is Olinda and ID is 3393536\n",
      "City Name is Hofn and ID is 2630299\n",
      "City Name is Taldan and ID is 2015646\n",
      "City Name is Nānākuli and ID is 5851349\n",
      "City Name is Khani and ID is 610864\n",
      "City Name is Düzce and ID is 747764\n",
      "City Name is Ust'-Kulom and ID is 478050\n",
      "City Name is San Patricio and ID is 4726521\n",
      "City Name is Esmeraldas and ID is 3464008\n",
      "City Name is Baião and ID is 3406844\n",
      "City Name is Rajec and ID is 3057910\n",
      "City Name is Chara and ID is 2025630\n",
      "City Name is Masunga and ID is 933390\n",
      "City Name is Balkhash and ID is 1525798\n",
      "City Name is Zaysan and ID is 1517060\n",
      "No city found\n",
      "City Name is Shirokiy and ID is 2016680\n",
      "City Name is Çanakkale Province and ID is 749778\n",
      "City Name is Tuatapere and ID is 2180815\n",
      "No city found\n",
      "City Name is Oranjestad and ID is 3577154\n",
      "City Name is Ferkessédougou and ID is 2289049\n",
      "City Name is Penzance and ID is 2640377\n",
      "City Name is Byron Bay and ID is 2172880\n",
      "City Name is Gazli and ID is 1513990\n",
      "City Name is Teya and ID is 1489656\n",
      "City Name is Wajima and ID is 1848976\n",
      "City Name is Taltal and ID is 3870243\n",
      "City Name is Wanaka and ID is 2184707\n",
      "City Name is Mackay and ID is 2159220\n",
      "City Name is Hutchinson and ID is 4273299\n",
      "City Name is Ossora and ID is 2122389\n",
      "City Name is Buraidah and ID is 107304\n",
      "City Name is Feijó and ID is 3664243\n",
      "City Name is Karratha and ID is 6620339\n",
      "City Name is Deputatsky and ID is 2028164\n",
      "No city found\n",
      "City Name is Broken Hill and ID is 2173911\n",
      "City Name is Srikakulam and ID is 1255647\n",
      "City Name is San Lorenzo and ID is 3437056\n",
      "City Name is Makakilo City and ID is 5850554\n",
      "City Name is Gualeguaychú and ID is 3433658\n",
      "City Name is Causapscal and ID is 6943488\n",
      "City Name is Upata and ID is 3625710\n",
      "City Name is Cabedelo and ID is 3404558\n",
      "City Name is Palapye and ID is 933182\n",
      "City Name is Sur and ID is 286245\n",
      "City Name is Aden and ID is 415189\n",
      "City Name is Oruzgan and ID is 1131461\n",
      "No city found\n",
      "City Name is Zapolyarnyy and ID is 464790\n",
      "No city found\n",
      "City Name is Santa Cruz do Capibaribe and ID is 3389652\n",
      "City Name is Houlton and ID is 4967563\n",
      "City Name is Severo-Kuril'sk and ID is 2121385\n",
      "City Name is Asău and ID is 686090\n",
      "No city found\n",
      "City Name is Ubari and ID is 2219235\n",
      "City Name is Bichena and ID is 342190\n",
      "City Name is Yamada and ID is 2110560\n",
      "City Name is Conceição do Araguaia and ID is 3401845\n",
      "City Name is Kirakira and ID is 2178753\n",
      "City Name is Gubkinskiy and ID is 1539209\n",
      "City Name is Smolino and ID is 491660\n",
      "City Name is Birjand and ID is 140463\n",
      "City Name is Abonnema and ID is 2324433\n",
      "City Name is Kalemie and ID is 214974\n",
      "City Name is Lagos and ID is 2332453\n",
      "City Name is Yumen and ID is 1528998\n",
      "City Name is Tocopilla and ID is 3869716\n",
      "City Name is Irtyshskiy and ID is 1505495\n",
      "City Name is Karlshamn and ID is 2701727\n",
      "City Name is Walvis Bay and ID is 3359638\n",
      "City Name is Winchester and ID is 2633858\n",
      "City Name is Port Augusta and ID is 2063056\n",
      "City Name is Havre-St-Pierre and ID is 5972291\n",
      "City Name is Taku and ID is 1793424\n",
      "City Name is Praia da Vitória and ID is 3372760\n",
      "City Name is Sola and ID is 2134814\n",
      "City Name is Mastic Beach and ID is 5126209\n",
      "City Name is Vostok and ID is 2013279\n",
      "City Name is Vila Franca do Campo and ID is 3372472\n",
      "City Name is Winneba and ID is 2294034\n",
      "City Name is Inhambane and ID is 1045114\n",
      "City Name is Mareeba and ID is 2158767\n",
      "City Name is Zolotukhino and ID is 462169\n",
      "City Name is Mindelo and ID is 3374462\n",
      "City Name is Obo and ID is 236950\n",
      "No city found\n",
      "City Name is Kemijärvi and ID is 653272\n",
      "City Name is Price and ID is 5545269\n",
      "City Name is Karakol and ID is 1528121\n",
      "City Name is Muisne and ID is 3653967\n",
      "City Name is Coyhaique and ID is 3894426\n",
      "City Name is Makurdi and ID is 2331140\n",
      "City Name is Yulara and ID is 6355222\n",
      "City Name is Half Moon Bay and ID is 5354943\n",
      "City Name is Tsiroanomandidy and ID is 1054463\n"
     ]
    }
   ],
   "source": [
    "city_data = []\n",
    "#loop through list of cities \n",
    "for city in cities:\n",
    "    #get response for each city\n",
    "    response = requests.get(query_url+city).json()\n",
    "    #try except to handle variable \n",
    "    try:\n",
    "        data_dict = {\n",
    "           \"City Name\": response['name'],\n",
    "            \"Latitude\": response[\"coord\"]['lat'],\n",
    "            \"Longitude\": response[\"coord\"]['lon'],\n",
    "            \"Temperature\": response[\"main\"][\"temp\"],\n",
    "            \"Humidity\": response[\"main\"][\"humidity\"],\n",
    "            \"Cloudiness\": response[\"clouds\"][\"all\"],\n",
    "            \"Wind Speed\": response[\"wind\"][\"speed\"],\n",
    "            \"Country\": response[\"sys\"][\"country\"],\n",
    "            \"Date\": response[\"dt\"]\n",
    "        }\n",
    "        city_data.append(data_dict)\n",
    "        print(f\"City Name is {response['name']} and ID is {response['id']}\")\n",
    "    except: \n",
    "        print(\"No city found\")\n",
    "        \n"
   ]
  },
  {
   "cell_type": "code",
   "execution_count": 23,
   "metadata": {},
   "outputs": [
    {
     "data": {
      "text/html": [
       "<div>\n",
       "<style scoped>\n",
       "    .dataframe tbody tr th:only-of-type {\n",
       "        vertical-align: middle;\n",
       "    }\n",
       "\n",
       "    .dataframe tbody tr th {\n",
       "        vertical-align: top;\n",
       "    }\n",
       "\n",
       "    .dataframe thead th {\n",
       "        text-align: right;\n",
       "    }\n",
       "</style>\n",
       "<table border=\"1\" class=\"dataframe\">\n",
       "  <thead>\n",
       "    <tr style=\"text-align: right;\">\n",
       "      <th></th>\n",
       "      <th>City Name</th>\n",
       "      <th>Latitude</th>\n",
       "      <th>Longitude</th>\n",
       "      <th>Temperature</th>\n",
       "      <th>Humidity</th>\n",
       "      <th>Cloudiness</th>\n",
       "      <th>Wind Speed</th>\n",
       "      <th>Country</th>\n",
       "      <th>Date</th>\n",
       "    </tr>\n",
       "  </thead>\n",
       "  <tbody>\n",
       "    <tr>\n",
       "      <th>0</th>\n",
       "      <td>Bredasdorp</td>\n",
       "      <td>-34.53</td>\n",
       "      <td>20.04</td>\n",
       "      <td>69.80</td>\n",
       "      <td>52</td>\n",
       "      <td>0</td>\n",
       "      <td>9.17</td>\n",
       "      <td>ZA</td>\n",
       "      <td>1603287646</td>\n",
       "    </tr>\n",
       "    <tr>\n",
       "      <th>1</th>\n",
       "      <td>Paamiut</td>\n",
       "      <td>61.99</td>\n",
       "      <td>-49.67</td>\n",
       "      <td>34.63</td>\n",
       "      <td>84</td>\n",
       "      <td>100</td>\n",
       "      <td>18.61</td>\n",
       "      <td>GL</td>\n",
       "      <td>1603287853</td>\n",
       "    </tr>\n",
       "    <tr>\n",
       "      <th>2</th>\n",
       "      <td>Tasiilaq</td>\n",
       "      <td>65.61</td>\n",
       "      <td>-37.64</td>\n",
       "      <td>30.20</td>\n",
       "      <td>86</td>\n",
       "      <td>75</td>\n",
       "      <td>3.36</td>\n",
       "      <td>GL</td>\n",
       "      <td>1603287667</td>\n",
       "    </tr>\n",
       "    <tr>\n",
       "      <th>3</th>\n",
       "      <td>Jamestown</td>\n",
       "      <td>42.10</td>\n",
       "      <td>-79.24</td>\n",
       "      <td>61.32</td>\n",
       "      <td>93</td>\n",
       "      <td>90</td>\n",
       "      <td>9.17</td>\n",
       "      <td>US</td>\n",
       "      <td>1603287393</td>\n",
       "    </tr>\n",
       "    <tr>\n",
       "      <th>4</th>\n",
       "      <td>Saskylakh</td>\n",
       "      <td>71.92</td>\n",
       "      <td>114.08</td>\n",
       "      <td>12.29</td>\n",
       "      <td>95</td>\n",
       "      <td>90</td>\n",
       "      <td>4.38</td>\n",
       "      <td>RU</td>\n",
       "      <td>1603287634</td>\n",
       "    </tr>\n",
       "  </tbody>\n",
       "</table>\n",
       "</div>"
      ],
      "text/plain": [
       "    City Name  Latitude  Longitude  Temperature  Humidity  Cloudiness  \\\n",
       "0  Bredasdorp    -34.53      20.04        69.80        52           0   \n",
       "1     Paamiut     61.99     -49.67        34.63        84         100   \n",
       "2    Tasiilaq     65.61     -37.64        30.20        86          75   \n",
       "3   Jamestown     42.10     -79.24        61.32        93          90   \n",
       "4   Saskylakh     71.92     114.08        12.29        95          90   \n",
       "\n",
       "   Wind Speed Country        Date  \n",
       "0        9.17      ZA  1603287646  \n",
       "1       18.61      GL  1603287853  \n",
       "2        3.36      GL  1603287667  \n",
       "3        9.17      US  1603287393  \n",
       "4        4.38      RU  1603287634  "
      ]
     },
     "execution_count": 23,
     "metadata": {},
     "output_type": "execute_result"
    }
   ],
   "source": [
    "#creating dataframe\n",
    "city_data = pd.DataFrame(city_data)\n",
    "city_data.head()"
   ]
  },
  {
   "cell_type": "markdown",
   "metadata": {},
   "source": [
    "### Perform API Calls\n",
    "* Perform a weather check on each city using a series of successive API calls.\n",
    "* Include a print log of each city as it'sbeing processed (with the city number and city name).\n"
   ]
  },
  {
   "cell_type": "markdown",
   "metadata": {},
   "source": [
    "### Convert Raw Data to DataFrame\n",
    "* Export the city data into a .csv.\n",
    "* Display the DataFrame"
   ]
  },
  {
   "cell_type": "code",
   "execution_count": 19,
   "metadata": {},
   "outputs": [],
   "source": [
    "# export city_data to csv\n",
    "city_data.to_csv('city_data.csv')"
   ]
  },
  {
   "cell_type": "code",
   "execution_count": 24,
   "metadata": {},
   "outputs": [
    {
     "data": {
      "text/html": [
       "<div>\n",
       "<style scoped>\n",
       "    .dataframe tbody tr th:only-of-type {\n",
       "        vertical-align: middle;\n",
       "    }\n",
       "\n",
       "    .dataframe tbody tr th {\n",
       "        vertical-align: top;\n",
       "    }\n",
       "\n",
       "    .dataframe thead th {\n",
       "        text-align: right;\n",
       "    }\n",
       "</style>\n",
       "<table border=\"1\" class=\"dataframe\">\n",
       "  <thead>\n",
       "    <tr style=\"text-align: right;\">\n",
       "      <th></th>\n",
       "      <th>Latitude</th>\n",
       "      <th>Longitude</th>\n",
       "      <th>Temperature</th>\n",
       "      <th>Humidity</th>\n",
       "      <th>Cloudiness</th>\n",
       "      <th>Wind Speed</th>\n",
       "      <th>Date</th>\n",
       "    </tr>\n",
       "  </thead>\n",
       "  <tbody>\n",
       "    <tr>\n",
       "      <th>count</th>\n",
       "      <td>572.000000</td>\n",
       "      <td>572.000000</td>\n",
       "      <td>572.000000</td>\n",
       "      <td>572.000000</td>\n",
       "      <td>572.000000</td>\n",
       "      <td>572.000000</td>\n",
       "      <td>5.720000e+02</td>\n",
       "    </tr>\n",
       "    <tr>\n",
       "      <th>mean</th>\n",
       "      <td>20.588269</td>\n",
       "      <td>13.918024</td>\n",
       "      <td>61.477185</td>\n",
       "      <td>71.241259</td>\n",
       "      <td>54.038462</td>\n",
       "      <td>8.103339</td>\n",
       "      <td>1.603288e+09</td>\n",
       "    </tr>\n",
       "    <tr>\n",
       "      <th>std</th>\n",
       "      <td>33.282260</td>\n",
       "      <td>88.858144</td>\n",
       "      <td>22.301163</td>\n",
       "      <td>22.720363</td>\n",
       "      <td>39.282335</td>\n",
       "      <td>5.115219</td>\n",
       "      <td>9.835053e+01</td>\n",
       "    </tr>\n",
       "    <tr>\n",
       "      <th>min</th>\n",
       "      <td>-54.800000</td>\n",
       "      <td>-175.200000</td>\n",
       "      <td>1.000000</td>\n",
       "      <td>1.000000</td>\n",
       "      <td>0.000000</td>\n",
       "      <td>0.250000</td>\n",
       "      <td>1.603287e+09</td>\n",
       "    </tr>\n",
       "    <tr>\n",
       "      <th>25%</th>\n",
       "      <td>-7.972500</td>\n",
       "      <td>-64.302500</td>\n",
       "      <td>44.400000</td>\n",
       "      <td>60.000000</td>\n",
       "      <td>12.750000</td>\n",
       "      <td>4.022500</td>\n",
       "      <td>1.603288e+09</td>\n",
       "    </tr>\n",
       "    <tr>\n",
       "      <th>50%</th>\n",
       "      <td>26.435000</td>\n",
       "      <td>16.575000</td>\n",
       "      <td>64.595000</td>\n",
       "      <td>76.000000</td>\n",
       "      <td>65.000000</td>\n",
       "      <td>6.930000</td>\n",
       "      <td>1.603288e+09</td>\n",
       "    </tr>\n",
       "    <tr>\n",
       "      <th>75%</th>\n",
       "      <td>48.872500</td>\n",
       "      <td>86.655000</td>\n",
       "      <td>79.075000</td>\n",
       "      <td>88.000000</td>\n",
       "      <td>90.000000</td>\n",
       "      <td>11.410000</td>\n",
       "      <td>1.603288e+09</td>\n",
       "    </tr>\n",
       "    <tr>\n",
       "      <th>max</th>\n",
       "      <td>78.220000</td>\n",
       "      <td>179.320000</td>\n",
       "      <td>105.800000</td>\n",
       "      <td>100.000000</td>\n",
       "      <td>100.000000</td>\n",
       "      <td>29.970000</td>\n",
       "      <td>1.603288e+09</td>\n",
       "    </tr>\n",
       "  </tbody>\n",
       "</table>\n",
       "</div>"
      ],
      "text/plain": [
       "         Latitude   Longitude  Temperature    Humidity  Cloudiness  \\\n",
       "count  572.000000  572.000000   572.000000  572.000000  572.000000   \n",
       "mean    20.588269   13.918024    61.477185   71.241259   54.038462   \n",
       "std     33.282260   88.858144    22.301163   22.720363   39.282335   \n",
       "min    -54.800000 -175.200000     1.000000    1.000000    0.000000   \n",
       "25%     -7.972500  -64.302500    44.400000   60.000000   12.750000   \n",
       "50%     26.435000   16.575000    64.595000   76.000000   65.000000   \n",
       "75%     48.872500   86.655000    79.075000   88.000000   90.000000   \n",
       "max     78.220000  179.320000   105.800000  100.000000  100.000000   \n",
       "\n",
       "       Wind Speed          Date  \n",
       "count  572.000000  5.720000e+02  \n",
       "mean     8.103339  1.603288e+09  \n",
       "std      5.115219  9.835053e+01  \n",
       "min      0.250000  1.603287e+09  \n",
       "25%      4.022500  1.603288e+09  \n",
       "50%      6.930000  1.603288e+09  \n",
       "75%     11.410000  1.603288e+09  \n",
       "max     29.970000  1.603288e+09  "
      ]
     },
     "execution_count": 24,
     "metadata": {},
     "output_type": "execute_result"
    }
   ],
   "source": [
    "city_data.describe()"
   ]
  },
  {
   "cell_type": "markdown",
   "metadata": {},
   "source": [
    "## Inspect the data and remove the cities where the humidity > 100%.\n",
    "----\n",
    "Skip this step if there are no cities that have humidity > 100%. "
   ]
  },
  {
   "cell_type": "code",
   "execution_count": 25,
   "metadata": {},
   "outputs": [
    {
     "data": {
      "text/html": [
       "<div>\n",
       "<style scoped>\n",
       "    .dataframe tbody tr th:only-of-type {\n",
       "        vertical-align: middle;\n",
       "    }\n",
       "\n",
       "    .dataframe tbody tr th {\n",
       "        vertical-align: top;\n",
       "    }\n",
       "\n",
       "    .dataframe thead th {\n",
       "        text-align: right;\n",
       "    }\n",
       "</style>\n",
       "<table border=\"1\" class=\"dataframe\">\n",
       "  <thead>\n",
       "    <tr style=\"text-align: right;\">\n",
       "      <th></th>\n",
       "      <th>City Name</th>\n",
       "      <th>Latitude</th>\n",
       "      <th>Longitude</th>\n",
       "      <th>Temperature</th>\n",
       "      <th>Humidity</th>\n",
       "      <th>Cloudiness</th>\n",
       "      <th>Wind Speed</th>\n",
       "      <th>Country</th>\n",
       "      <th>Date</th>\n",
       "    </tr>\n",
       "  </thead>\n",
       "  <tbody>\n",
       "  </tbody>\n",
       "</table>\n",
       "</div>"
      ],
      "text/plain": [
       "Empty DataFrame\n",
       "Columns: [City Name, Latitude, Longitude, Temperature, Humidity, Cloudiness, Wind Speed, Country, Date]\n",
       "Index: []"
      ]
     },
     "execution_count": 25,
     "metadata": {},
     "output_type": "execute_result"
    }
   ],
   "source": [
    "humidity = city_data.loc[city_data[\"Humidity\"]>100]\n",
    "humidity"
   ]
  },
  {
   "cell_type": "code",
   "execution_count": 26,
   "metadata": {},
   "outputs": [],
   "source": [
    "#  Get the indices of cities that have humidity over 100%.\n",
    "# No cities with humidity over 100% "
   ]
  },
  {
   "cell_type": "code",
   "execution_count": 27,
   "metadata": {},
   "outputs": [],
   "source": [
    "# Make a new DataFrame equal to the city data to drop all humidity outliers by index.\n",
    "# Passing \"inplace=False\" will make a copy of the city_data DataFrame, which we call \"clean_city_data\".\n"
   ]
  },
  {
   "cell_type": "markdown",
   "metadata": {},
   "source": [
    "## Plotting the Data\n",
    "* Use proper labeling of the plots using plot titles (including date of analysis) and axes labels.\n",
    "* Save the plotted figures as .pngs."
   ]
  },
  {
   "cell_type": "markdown",
   "metadata": {},
   "source": [
    "## Latitude vs. Temperature Plot"
   ]
  },
  {
   "cell_type": "code",
   "execution_count": 40,
   "metadata": {
    "scrolled": true
   },
   "outputs": [
    {
     "data": {
      "image/png": "[encoded data removed]",
      "text/plain": [
       "<Figure size 432x288 with 1 Axes>"
      ]
     },
     "metadata": {
      "needs_background": "light"
     },
     "output_type": "display_data"
    }
   ],
   "source": [
    "#scatter plot for Latitude vs Temperature\n",
    "\n",
    "city_data.plot(kind='scatter', x='Latitude', y='Temperature', title='City Latitude vs. Temperature', marker='o', color='gray')\n",
    "plt.show()"
   ]
  },
  {
   "cell_type": "markdown",
   "metadata": {},
   "source": [
    "## Latitude vs. Humidity Plot"
   ]
  },
  {
   "cell_type": "code",
   "execution_count": 36,
   "metadata": {},
   "outputs": [
    {
     "data": {
      "image/png": "[encoded data removed]",
      "text/plain": [
       "<Figure size 432x288 with 1 Axes>"
      ]
     },
     "metadata": {
      "needs_background": "light"
     },
     "output_type": "display_data"
    }
   ],
   "source": [
    "#scatter plot for Latitude vs Humidity\n",
    "city_data.plot(kind='scatter', x='Latitude', y='Humidity', title='City Latitude vs. Humidity', marker='o', color='gray')\n",
    "plt.show()"
   ]
  },
  {
   "cell_type": "markdown",
   "metadata": {},
   "source": [
    "## Latitude vs. Cloudiness Plot"
   ]
  },
  {
   "cell_type": "code",
   "execution_count": 38,
   "metadata": {},
   "outputs": [
    {
     "data": {
      "image/png": "[encoded data removed]",
      "text/plain": [
       "<Figure size 432x288 with 1 Axes>"
      ]
     },
     "metadata": {
      "needs_background": "light"
     },
     "output_type": "display_data"
    }
   ],
   "source": [
    "#scatter plot for Latitude vs Cloudiness\n",
    "city_data.plot(kind='scatter', x='Latitude', y='Cloudiness', title='City Latitude vs. Cloudiness', marker='o', color='gray')\n",
    "plt.show()"
   ]
  },
  {
   "cell_type": "markdown",
   "metadata": {},
   "source": [
    "## Latitude vs. Wind Speed Plot"
   ]
  },
  {
   "cell_type": "code",
   "execution_count": 39,
   "metadata": {},
   "outputs": [
    {
     "data": {
      "image/png": "[encoded data removed]",
      "text/plain": [
       "<Figure size 432x288 with 1 Axes>"
      ]
     },
     "metadata": {
      "needs_background": "light"
     },
     "output_type": "display_data"
    }
   ],
   "source": [
    "#scatter plot for Latitude vs Wind Speed\n",
    "city_data.plot(kind='scatter', x='Latitude', y='Wind Speed', title='City Latitude vs. Wind Speed', marker='o', color='gray')\n",
    "plt.show()"
   ]
  },
  {
   "cell_type": "markdown",
   "metadata": {},
   "source": [
    "## Linear Regression"
   ]
  },
  {
   "cell_type": "code",
   "execution_count": 55,
   "metadata": {},
   "outputs": [],
   "source": [
    "northern_hem = city_data.loc[city_data['Latitude'] >= 0]\n",
    "northern_hem.reset_index(inplace=True)\n",
    "\n",
    "southern_hem = city_data.loc[city_data['Latitude'] < 0]\n",
    "southern_hem.reset_index(inplace=True)\n"
   ]
  },
  {
   "cell_type": "markdown",
   "metadata": {},
   "source": [
    "####  Northern Hemisphere - Max Temp vs. Latitude Linear Regression"
   ]
  },
  {
   "cell_type": "code",
   "execution_count": 72,
   "metadata": {},
   "outputs": [
    {
     "name": "stdout",
     "output_type": "stream",
     "text": [
      "The correlation coefficient is: 0.7938912652278206\n"
     ]
    },
    {
     "data": {
      "image/png": "[encoded data removed]",
      "text/plain": [
       "<Figure size 432x288 with 1 Axes>"
      ]
     },
     "metadata": {
      "needs_background": "light"
     },
     "output_type": "display_data"
    }
   ],
   "source": [
    "#Northern Hemisphere - Max Temp vs Latitude\n",
    "temp = northern_hem['Temperature']\n",
    "lat = northern_hem['Latitude']\n",
    "\n",
    "x_values = temp\n",
    "y_values = lat\n",
    "(slope, intercept, rvalue, pvalue, stderr) = linregress(x_values, y_values)\n",
    "regress_values = x_values * slope + intercept\n",
    "line_eq = \"y = \" + str(round(slope,2)) + \"x + \" + str(round(intercept,2))\n",
    "plt.scatter(x_values,y_values)\n",
    "plt.plot(x_values, regress_values, \"r\")\n",
    "plt.annotate(line_eq,(6,10), fontsize=15, color='r')\n",
    "plt.xlabel('Temperature (F)')\n",
    "plt.ylabel('Latitude (Northern Hemisphere)')\n",
    "print(f\"The correlation coefficient is: {rvalue**2}\")\n",
    "plt.show()\n"
   ]
  },
  {
   "cell_type": "markdown",
   "metadata": {},
   "source": [
    "####  Southern Hemisphere - Max Temp vs. Latitude Linear Regression"
   ]
  },
  {
   "cell_type": "code",
   "execution_count": 64,
   "metadata": {},
   "outputs": [
    {
     "name": "stdout",
     "output_type": "stream",
     "text": [
      "The correlation coefficient is: 0.474767296130208\n"
     ]
    },
    {
     "data": {
      "image/png": "[encoded data removed]",
      "text/plain": [
       "<Figure size 432x288 with 1 Axes>"
      ]
     },
     "metadata": {
      "needs_background": "light"
     },
     "output_type": "display_data"
    }
   ],
   "source": [
    "#Southern Hemisphere - Max Temp vs Latitude\n",
    "temp_southern = southern_hem['Temperature']\n",
    "lat_southern = southern_hem['Latitude']\n",
    "\n",
    "x_values = temp_southern\n",
    "y_values = lat_southern\n",
    "(slope, intercept, rvalue, pvalue, stderr) = linregress(x_values, y_values)\n",
    "regress_values = x_values * slope + intercept\n",
    "line_eq = \"y = \" + str(round(slope,2)) + \"x + \" + str(round(intercept,2))\n",
    "plt.scatter(x_values,y_values)\n",
    "plt.plot(x_values, regress_values, \"r\")\n",
    "plt.annotate(line_eq,(6,10), fontsize=15, color='r')\n",
    "plt.xlabel('Temperature (F)')\n",
    "plt.ylabel('Latitude (Southern Hemisphere)')\n",
    "print(f\"The correlation coefficient is: {rvalue**2}\")\n",
    "plt.show()\n"
   ]
  },
  {
   "cell_type": "code",
   "execution_count": null,
   "metadata": {},
   "outputs": [],
   "source": [
    "# There appears to be a correlation between temperature and latitude. As expected, the further away from the \n",
    "#equater, the higher the temperatures. "
   ]
  },
  {
   "cell_type": "markdown",
   "metadata": {},
   "source": [
    "####  Northern Hemisphere - Humidity (%) vs. Latitude Linear Regression"
   ]
  },
  {
   "cell_type": "code",
   "execution_count": 65,
   "metadata": {},
   "outputs": [
    {
     "name": "stdout",
     "output_type": "stream",
     "text": [
      "The correlation coefficient is: 0.11007533154827241\n"
     ]
    },
    {
     "data": {
      "image/png": "[encoded data removed]",
      "text/plain": [
       "<Figure size 432x288 with 1 Axes>"
      ]
     },
     "metadata": {
      "needs_background": "light"
     },
     "output_type": "display_data"
    }
   ],
   "source": [
    "#Northern Hemisphere - Humidity vs Latitude\n",
    "humidity_north = northern_hem['Humidity']\n",
    "lat_north = northern_hem['Latitude']\n",
    "\n",
    "x_values = humidity_north\n",
    "y_values = lat_north\n",
    "(slope, intercept, rvalue, pvalue, stderr) = linregress(x_values, y_values)\n",
    "regress_values = x_values * slope + intercept\n",
    "line_eq = \"y = \" + str(round(slope,2)) + \"x + \" + str(round(intercept,2))\n",
    "plt.scatter(x_values,y_values)\n",
    "plt.plot(x_values, regress_values, \"r\")\n",
    "plt.annotate(line_eq,(6,10), fontsize=15, color='r')\n",
    "plt.xlabel('Humidity')\n",
    "plt.ylabel('Latitude (Northern Hemisphere)')\n",
    "print(f\"The correlation coefficient is: {rvalue**2}\")\n",
    "plt.show()\n"
   ]
  },
  {
   "cell_type": "markdown",
   "metadata": {},
   "source": [
    "####  Southern Hemisphere - Humidity (%) vs. Latitude Linear Regression"
   ]
  },
  {
   "cell_type": "code",
   "execution_count": 69,
   "metadata": {},
   "outputs": [
    {
     "name": "stdout",
     "output_type": "stream",
     "text": [
      "The correlation coefficient is: 0.0059454637331476465\n"
     ]
    },
    {
     "data": {
      "image/png": "[encoded data removed]",
      "text/plain": [
       "<Figure size 432x288 with 1 Axes>"
      ]
     },
     "metadata": {
      "needs_background": "light"
     },
     "output_type": "display_data"
    }
   ],
   "source": [
    "#Southern Hemisphere - Humidity vs Latitude\n",
    "humidity_southern = southern_hem['Humidity']\n",
    "lat_southern = southern_hem['Latitude']\n",
    "\n",
    "x_values = humidity_southern\n",
    "y_values = lat_southern\n",
    "(slope, intercept, rvalue, pvalue, stderr) = linregress(x_values, y_values)\n",
    "regress_values = x_values * slope + intercept\n",
    "line_eq = \"y = \" + str(round(slope,2)) + \"x + \" + str(round(intercept,2))\n",
    "plt.scatter(x_values,y_values)\n",
    "plt.plot(x_values, regress_values, \"r\")\n",
    "plt.annotate(line_eq,(6,10), fontsize=15, color='r')\n",
    "plt.xlabel('Humidity')\n",
    "plt.ylabel('Latitude (Southern Hemisphere)')\n",
    "print(f\"The correlation coefficient is: {rvalue**2}\")\n",
    "plt.show()\n"
   ]
  },
  {
   "cell_type": "code",
   "execution_count": null,
   "metadata": {},
   "outputs": [],
   "source": [
    "# There is little correlation between humidity and latitude. "
   ]
  },
  {
   "cell_type": "markdown",
   "metadata": {},
   "source": [
    "####  Northern Hemisphere - Cloudiness (%) vs. Latitude Linear Regression"
   ]
  },
  {
   "cell_type": "code",
   "execution_count": 67,
   "metadata": {},
   "outputs": [
    {
     "name": "stdout",
     "output_type": "stream",
     "text": [
      "The correlation coefficient is: 0.06591111168338654\n"
     ]
    },
    {
     "data": {
      "image/png": "[encoded data removed]",
      "text/plain": [
       "<Figure size 432x288 with 1 Axes>"
      ]
     },
     "metadata": {
      "needs_background": "light"
     },
     "output_type": "display_data"
    }
   ],
   "source": [
    "#Northern Hemisphere - Cloudiness vs Latitude\n",
    "cloudiness_northern = northern_hem['Cloudiness']\n",
    "lat_north = northern_hem['Latitude']\n",
    "\n",
    "x_values = cloudiness_northern\n",
    "y_values = lat_north\n",
    "(slope, intercept, rvalue, pvalue, stderr) = linregress(x_values, y_values)\n",
    "regress_values = x_values * slope + intercept\n",
    "line_eq = \"y = \" + str(round(slope,2)) + \"x + \" + str(round(intercept,2))\n",
    "plt.scatter(x_values,y_values)\n",
    "plt.plot(x_values, regress_values, \"r\")\n",
    "plt.annotate(line_eq,(6,10), fontsize=15, color='r')\n",
    "plt.xlabel('Cloudiness')\n",
    "plt.ylabel('Latitude (Northern Hemisphere)')\n",
    "print(f\"The correlation coefficient is: {rvalue**2}\")\n",
    "plt.show()\n"
   ]
  },
  {
   "cell_type": "markdown",
   "metadata": {},
   "source": [
    "####  Southern Hemisphere - Cloudiness (%) vs. Latitude Linear Regression"
   ]
  },
  {
   "cell_type": "code",
   "execution_count": 68,
   "metadata": {},
   "outputs": [
    {
     "name": "stdout",
     "output_type": "stream",
     "text": [
      "The correlation coefficient is: 0.018950599323853727\n"
     ]
    },
    {
     "data": {
      "image/png": "[encoded data removed]",
      "text/plain": [
       "<Figure size 432x288 with 1 Axes>"
      ]
     },
     "metadata": {
      "needs_background": "light"
     },
     "output_type": "display_data"
    }
   ],
   "source": [
    "#Southern Hemisphere - Cloudiness vs Latitude\n",
    "cloudiness_southern = southern_hem['Cloudiness']\n",
    "lat_southern = southern_hem['Latitude']\n",
    "\n",
    "x_values = cloudiness_southern\n",
    "y_values = lat_southern\n",
    "(slope, intercept, rvalue, pvalue, stderr) = linregress(x_values, y_values)\n",
    "regress_values = x_values * slope + intercept\n",
    "line_eq = \"y = \" + str(round(slope,2)) + \"x + \" + str(round(intercept,2))\n",
    "plt.scatter(x_values,y_values)\n",
    "plt.plot(x_values, regress_values, \"r\")\n",
    "plt.annotate(line_eq,(6,10), fontsize=15, color='r')\n",
    "plt.xlabel('Cloudiness')\n",
    "plt.ylabel('Latitude (Southern Hemisphere)')\n",
    "print(f\"The correlation coefficient is: {rvalue**2}\")\n",
    "plt.show()\n"
   ]
  },
  {
   "cell_type": "code",
   "execution_count": null,
   "metadata": {},
   "outputs": [],
   "source": [
    "#There is almost no correlation between cloudiness and latitude in either the Northern or Southern Hemisphere. "
   ]
  },
  {
   "cell_type": "markdown",
   "metadata": {},
   "source": [
    "####  Northern Hemisphere - Wind Speed (mph) vs. Latitude Linear Regression"
   ]
  },
  {
   "cell_type": "code",
   "execution_count": 70,
   "metadata": {},
   "outputs": [
    {
     "name": "stdout",
     "output_type": "stream",
     "text": [
      "The correlation coefficient is: 0.0004515905331111213\n"
     ]
    },
    {
     "data": {
      "image/png": "[encoded data removed]",
      "text/plain": [
       "<Figure size 432x288 with 1 Axes>"
      ]
     },
     "metadata": {
      "needs_background": "light"
     },
     "output_type": "display_data"
    }
   ],
   "source": [
    "#Northern Hemisphere - Wind Speed vs Latitude\n",
    "wind_northern = northern_hem['Wind Speed']\n",
    "lat_north = northern_hem['Latitude']\n",
    "\n",
    "x_values = wind_northern\n",
    "y_values = lat_north\n",
    "(slope, intercept, rvalue, pvalue, stderr) = linregress(x_values, y_values)\n",
    "regress_values = x_values * slope + intercept\n",
    "line_eq = \"y = \" + str(round(slope,2)) + \"x + \" + str(round(intercept,2))\n",
    "plt.scatter(x_values,y_values)\n",
    "plt.plot(x_values, regress_values, \"r\")\n",
    "plt.annotate(line_eq,(6,10), fontsize=15, color='r')\n",
    "plt.xlabel('Wind Speed (mph)')\n",
    "plt.ylabel('Latitude (Northern Hemisphere)')\n",
    "print(f\"The correlation coefficient is: {rvalue**2}\")\n",
    "plt.show()\n"
   ]
  },
  {
   "cell_type": "markdown",
   "metadata": {},
   "source": [
    "####  Southern Hemisphere - Wind Speed (mph) vs. Latitude Linear Regression"
   ]
  },
  {
   "cell_type": "code",
   "execution_count": 71,
   "metadata": {},
   "outputs": [
    {
     "name": "stdout",
     "output_type": "stream",
     "text": [
      "The correlation coefficient is: 0.007068749166026902\n"
     ]
    },
    {
     "data": {
      "image/png": "[encoded data removed]",
      "text/plain": [
       "<Figure size 432x288 with 1 Axes>"
      ]
     },
     "metadata": {
      "needs_background": "light"
     },
     "output_type": "display_data"
    }
   ],
   "source": [
    "#Southern Hemisphere - Wind Speed vs Latitude\n",
    "wind_southern = southern_hem['Wind Speed']\n",
    "lat_southern = southern_hem['Latitude']\n",
    "\n",
    "x_values = wind_southern\n",
    "y_values = lat_southern\n",
    "(slope, intercept, rvalue, pvalue, stderr) = linregress(x_values, y_values)\n",
    "regress_values = x_values * slope + intercept\n",
    "line_eq = \"y = \" + str(round(slope,2)) + \"x + \" + str(round(intercept,2))\n",
    "plt.scatter(x_values,y_values)\n",
    "plt.plot(x_values, regress_values, \"r\")\n",
    "plt.annotate(line_eq,(6,10), fontsize=15, color='r')\n",
    "plt.xlabel('Wind Speed (mph)')\n",
    "plt.ylabel('Latitude (Southern Hemisphere)')\n",
    "print(f\"The correlation coefficient is: {rvalue**2}\")\n",
    "plt.show()\n"
   ]
  },
  {
   "cell_type": "code",
   "execution_count": null,
   "metadata": {},
   "outputs": [],
   "source": [
    "#There is no correlation between latitude and wind speed in either the Northern or Southern Hemisphere."
   ]
  }
 ],
 "metadata": {
  "anaconda-cloud": {},
  "kernel_info": {
   "name": "python3"
  },
  "kernelspec": {
   "display_name": "Python [conda env:PythonData] *",
   "language": "python",
   "name": "conda-env-PythonData-py"
  },
  "language_info": {
   "codemirror_mode": {
    "name": "ipython",
    "version": 3
   },
   "file_extension": ".py",
   "mimetype": "text/x-python",
   "name": "python",
   "nbconvert_exporter": "python",
   "pygments_lexer": "ipython3",
   "version": "3.6.12"
  },
  "latex_envs": {
   "LaTeX_envs_menu_present": true,
   "autoclose": false,
   "autocomplete": true,
   "bibliofile": "biblio.bib",
   "cite_by": "apalike",
   "current_citInitial": 1,
   "eqLabelWithNumbers": true,
   "eqNumInitial": 1,
   "hotkeys": {
    "equation": "Ctrl-E",
    "itemize": "Ctrl-I"
   },
   "labels_anchors": false,
   "latex_user_defs": false,
   "report_style_numbering": false,
   "user_envs_cfg": false
  },
  "nteract": {
   "version": "0.12.3"
  }
 },
 "nbformat": 4,
 "nbformat_minor": 2
}
